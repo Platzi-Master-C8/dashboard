{
 "cells": [
  {
   "cell_type": "code",
   "execution_count": 1,
   "metadata": {},
   "outputs": [
    {
     "data": {
      "text/html": [
       "\n",
       "        <iframe\n",
       "            width=\"100%\"\n",
       "            height=\"600\"\n",
       "            src=\"http://127.0.0.1:8050/\"\n",
       "            frameborder=\"0\"\n",
       "            allowfullscreen\n",
       "            \n",
       "        ></iframe>\n",
       "        "
      ],
      "text/plain": [
       "<IPython.lib.display.IFrame at 0x156d55223b0>"
      ]
     },
     "metadata": {},
     "output_type": "display_data"
    }
   ],
   "source": [
    "from dashboard.app import run_app\n",
    "run_app()\n",
    "\n",
    "from wordcloud import WordCloud\n",
    "\n",
    "job_title=data['Job Title'][~pd.isnull(data['Job Title'])]\n",
    "wordCloud = WordCloud(width=450,height= 300).generate(' '.join(job_title))\n",
    "plt.figure(figsize=(19,9))\n",
    "plt.axis('off')\n",
    "plt.title(data['Job Title'].name,fontsize=20)\n",
    "plt.imshow(wordCloud)\n",
    "plt.show()"
   ]
  }
 ],
 "metadata": {
  "interpreter": {
   "hash": "9db824c9414c3688057fd96fda20c1360f0acdee1ef5920928a7e1a499e2bcd3"
  },
  "kernelspec": {
   "display_name": "Python 3.10.2 ('.python_modules': venv)",
   "language": "python",
   "name": "python3"
  },
  "language_info": {
   "codemirror_mode": {
    "name": "ipython",
    "version": 3
   },
   "file_extension": ".py",
   "mimetype": "text/x-python",
   "name": "python",
   "nbconvert_exporter": "python",
   "pygments_lexer": "ipython3",
   "version": "3.10.2"
  },
  "orig_nbformat": 4
 },
 "nbformat": 4,
 "nbformat_minor": 2
}